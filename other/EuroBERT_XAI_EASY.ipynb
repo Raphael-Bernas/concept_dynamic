{
 "cells": [
  {
   "cell_type": "code",
   "execution_count": null,
   "metadata": {
    "colab": {
     "base_uri": "https://localhost:8080/"
    },
    "id": "bf5AXGG75biK",
    "outputId": "ebc6d01f-13a2-42fd-844e-313ca28649bd"
   },
   "outputs": [],
   "source": [
    "!git clone https://github.com/Raphael-Bernas/concept_dynamic.git"
   ]
  },
  {
   "cell_type": "code",
   "execution_count": null,
   "metadata": {
    "colab": {
     "base_uri": "https://localhost:8080/"
    },
    "id": "Hgcpm2fW5pxr",
    "outputId": "1ea2f38a-03a7-4c88-cf08-4943d2fc6b31"
   },
   "outputs": [],
   "source": [
    "### Do pip install from concept_dynamic/other/requirements.txt : ###\n",
    "# !pip install -r concept_dynamic/other/requirements.txt"
   ]
  },
  {
   "cell_type": "code",
   "execution_count": null,
   "metadata": {
    "colab": {
     "base_uri": "https://localhost:8080/"
    },
    "id": "JthnBWBp5tJ-",
    "outputId": "abe2779c-cbf5-4918-b193-bbac153c6c72"
   },
   "outputs": [],
   "source": [
    "# !bash LLM-XAI/main_learning.sh\n",
    "# !bash LLM-XAI/main_decomposition.sh\n",
    "# !bash LLM-XAI/main_decomposition_visual.sh\n",
    "# !bash LLM-XAI/main_higher_decomposition.sh\n",
    "# !bash LLM-XAI/main_cav_decomposition.sh"
   ]
  },
  {
   "cell_type": "code",
   "execution_count": null,
   "metadata": {
    "id": "uq346Uo14UJQ"
   },
   "outputs": [],
   "source": [
    "### Download results from colab : ###\n",
    "\n",
    "# from google.colab import files\n",
    "# import glob\n",
    "\n",
    "# zip_files = glob.glob(\"test_*.zip\")\n",
    "\n",
    "# for zip_file in zip_files:\n",
    "#     files.download(zip_file)\n"
   ]
  }
 ],
 "metadata": {
  "accelerator": "GPU",
  "colab": {
   "gpuType": "A100",
   "provenance": []
  },
  "kernelspec": {
   "display_name": "Python 3",
   "name": "python3"
  },
  "language_info": {
   "name": "python"
  }
 },
 "nbformat": 4,
 "nbformat_minor": 0
}
